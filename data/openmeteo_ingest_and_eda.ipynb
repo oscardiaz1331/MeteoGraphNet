{
 "cells": [
  {
   "cell_type": "code",
   "execution_count": 2,
   "id": "c9ef0d7f",
   "metadata": {},
   "outputs": [],
   "source": [
    "from OpenMeteo import OpenMeteoClient\n",
    "\n",
    "client = OpenMeteoClient(cache_path=\".cache\", expire_after=-1, retries=5, backoff_factor=0.2)\n",
    "\n",
    "url = \"https://archive-api.open-meteo.com/v1/archive\"\n",
    "params = {\n",
    "    \"latitude\": 52.52,\n",
    "    \"longitude\": 13.41,\n",
    "    \"start_date\": \"2025-10-05\",\n",
    "    \"end_date\": \"2025-10-19\",\n",
    "    \"hourly\": \"temperature_2m\",\n",
    "}\n"
   ]
  },
  {
   "cell_type": "code",
   "execution_count": 3,
   "id": "6124563c",
   "metadata": {},
   "outputs": [
    {
     "name": "stdout",
     "output_type": "stream",
     "text": [
      "Coordinates: 52.5483283996582 N 13.407821655273438 E\n",
      "Elevation (m): 38.0\n",
      "UTC offset (s): 0\n"
     ]
    }
   ],
   "source": [
    "responses = client.weather_api(url, params=params)\n",
    "resp = responses[0]\n",
    "\n",
    "print(\"Coordinates:\", resp.Latitude(), \"N\", resp.Longitude(), \"E\")\n",
    "print(\"Elevation (m):\", resp.Elevation())\n",
    "print(\"UTC offset (s):\", resp.UtcOffsetSeconds())"
   ]
  },
  {
   "cell_type": "code",
   "execution_count": 4,
   "id": "cf423985",
   "metadata": {},
   "outputs": [
    {
     "name": "stdout",
     "output_type": "stream",
     "text": [
      "                       date  variable_0\n",
      "0 2025-10-05 00:00:00+00:00    9.058500\n",
      "1 2025-10-05 01:00:00+00:00    8.958500\n",
      "2 2025-10-05 02:00:00+00:00    9.358500\n",
      "3 2025-10-05 03:00:00+00:00    9.658501\n",
      "4 2025-10-05 04:00:00+00:00    9.558500\n"
     ]
    }
   ],
   "source": [
    "hourly_df = client.hourly_to_dataframe(resp, variable_index=0)\n",
    "print(hourly_df.head())"
   ]
  }
 ],
 "metadata": {
  "kernelspec": {
   "display_name": "venv",
   "language": "python",
   "name": "python3"
  },
  "language_info": {
   "codemirror_mode": {
    "name": "ipython",
    "version": 3
   },
   "file_extension": ".py",
   "mimetype": "text/x-python",
   "name": "python",
   "nbconvert_exporter": "python",
   "pygments_lexer": "ipython3",
   "version": "3.11.9"
  }
 },
 "nbformat": 4,
 "nbformat_minor": 5
}
